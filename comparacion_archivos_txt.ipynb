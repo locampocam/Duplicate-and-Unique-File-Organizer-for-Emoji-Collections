{
 "cells": [
  {
   "cell_type": "code",
   "execution_count": 4,
   "metadata": {},
   "outputs": [
    {
     "name": "stdout",
     "output_type": "stream",
     "text": [
      "Nombres repetidos encontrados:\n",
      "catmoney\n",
      "Butterflies\n",
      "gengar\n",
      "dblovebear\n",
      "catnekoannoyed69\n",
      "catjail\n",
      "catnekofine25\n",
      "file35509\n",
      "catbirthday\n",
      "Junimo\n",
      "catmind11\n",
      "onigiri\n",
      "gengar24\n",
      "catwot\n",
      "fzpyaarmeikhushi\n",
      "Fam86\n",
      "file35478\n",
      "Chick_Ok\n",
      "263stitchnight\n",
      "minecraftenchant\n"
     ]
    }
   ],
   "source": [
    "# Definir las rutas de los archivos\n",
    "archivo_1 = r\"C:\\Users\\Laura\\Desktop\\duplicados\\nombres.txt\"\n",
    "archivo_2 = r\"C:\\Users\\Laura\\Desktop\\duplicados\\nombres_discord.txt\"\n",
    "\n",
    "# Leer los nombres desde los archivos\n",
    "def leer_nombres(archivo):\n",
    "    with open(archivo, \"r\", encoding=\"utf-8\") as f:\n",
    "        return {line.strip() for line in f}  # Usamos un set para eliminar duplicados automáticamente\n",
    "\n",
    "# Cargar los nombres en conjuntos\n",
    "nombres_1 = leer_nombres(archivo_1)\n",
    "nombres_2 = leer_nombres(archivo_2)\n",
    "\n",
    "# Encontrar nombres repetidos\n",
    "nombres_repetidos = nombres_1.intersection(nombres_2)\n",
    "\n",
    "# Mostrar resultados\n",
    "if nombres_repetidos:\n",
    "    print(\"Nombres repetidos encontrados:\")\n",
    "    for nombre in nombres_repetidos:\n",
    "        print(nombre)\n",
    "else:\n",
    "    print(\"No hay nombres repetidos.\")\n"
   ]
  }
 ],
 "metadata": {
  "kernelspec": {
   "display_name": "Python 3",
   "language": "python",
   "name": "python3"
  },
  "language_info": {
   "codemirror_mode": {
    "name": "ipython",
    "version": 3
   },
   "file_extension": ".py",
   "mimetype": "text/x-python",
   "name": "python",
   "nbconvert_exporter": "python",
   "pygments_lexer": "ipython3",
   "version": "3.11.9"
  }
 },
 "nbformat": 4,
 "nbformat_minor": 2
}
