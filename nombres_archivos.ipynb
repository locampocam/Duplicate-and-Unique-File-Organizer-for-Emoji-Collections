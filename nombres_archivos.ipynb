{
 "cells": [
  {
   "cell_type": "code",
   "execution_count": 3,
   "metadata": {},
   "outputs": [
    {
     "name": "stdout",
     "output_type": "stream",
     "text": [
      "Lista de archivos guardada en: C:\\Users\\Laura\\Desktop\\duplicados\\emogi\\nombres.txt\n"
     ]
    }
   ],
   "source": [
    "import os\n",
    "\n",
    "# Definir la carpeta y el archivo de salida\n",
    "carpeta = r\"C:\\Users\\Laura\\Desktop\\duplicados\\emogi\"  \n",
    "archivo_salida = os.path.join(carpeta, \"nombres.txt\")\n",
    "\n",
    "# Obtener lista de archivos sin extensión\n",
    "archivos = os.listdir(carpeta)\n",
    "nombres_sin_extension = {os.path.splitext(archivo)[0] for archivo in archivos}\n",
    "\n",
    "# Guardar en un archivo de texto\n",
    "with open(archivo_salida, \"w\", encoding=\"utf-8\") as f:\n",
    "    for nombre in nombres_sin_extension:\n",
    "        f.write(nombre + \"\\n\")\n",
    "\n",
    "print(f\"Lista de archivos guardada en: {archivo_salida}\")\n"
   ]
  }
 ],
 "metadata": {
  "kernelspec": {
   "display_name": "Python 3",
   "language": "python",
   "name": "python3"
  },
  "language_info": {
   "codemirror_mode": {
    "name": "ipython",
    "version": 3
   },
   "file_extension": ".py",
   "mimetype": "text/x-python",
   "name": "python",
   "nbconvert_exporter": "python",
   "pygments_lexer": "ipython3",
   "version": "3.11.9"
  }
 },
 "nbformat": 4,
 "nbformat_minor": 2
}
